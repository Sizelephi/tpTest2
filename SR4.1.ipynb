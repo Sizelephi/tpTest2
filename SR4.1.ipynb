{
 "cells": [
  {
   "cell_type": "code",
   "execution_count": 4,
   "id": "3a46fbb4-49dc-41f3-b9b3-a516a2374a77",
   "metadata": {},
   "outputs": [
    {
     "name": "stdout",
     "output_type": "stream",
     "text": [
      "Bubble Sort: [22000, 23000, 24000, 25000, 26000, 27000, 32800, 38600, 44300, 50100, 55900, 61700, 67500]\n"
     ]
    }
   ],
   "source": [
    "def bubble_sort(arr):\n",
    "    n = len(arr)\n",
    "    for i in range(n):\n",
    "        for j in range(0, n-i-1):\n",
    "            if arr[j] > arr[j+1]:\n",
    "                arr[j], arr[j+1] = arr[j+1], arr[j]\n",
    "    return arr\n",
    "    \n",
    "Value = [ 67500, 61700,55900,50100,44300,38600,32800,27000,26000,25000,24000,23000,22000]\n",
    "sorted_Value = bubble_sort(Value)\n",
    "print(\"Bubble Sort:\", sorted_Value)"
   ]
  },
  {
   "cell_type": "code",
   "execution_count": null,
   "id": "a8fb0cb1-8ac9-4d6c-ab29-bc1915d48154",
   "metadata": {},
   "outputs": [],
   "source": []
  },
  {
   "cell_type": "code",
   "execution_count": null,
   "id": "c68392c9-0790-47aa-8651-359eca09ab56",
   "metadata": {},
   "outputs": [],
   "source": []
  }
 ],
 "metadata": {
  "kernelspec": {
   "display_name": "Python 3 (ipykernel)",
   "language": "python",
   "name": "python3"
  },
  "language_info": {
   "codemirror_mode": {
    "name": "ipython",
    "version": 3
   },
   "file_extension": ".py",
   "mimetype": "text/x-python",
   "name": "python",
   "nbconvert_exporter": "python",
   "pygments_lexer": "ipython3",
   "version": "3.11.7"
  }
 },
 "nbformat": 4,
 "nbformat_minor": 5
}
