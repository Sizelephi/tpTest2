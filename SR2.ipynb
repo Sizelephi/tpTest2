{
 "cells": [
  {
   "cell_type": "code",
   "execution_count": 1,
   "id": "876de61e-a7be-4c08-bf47-dc0f6f896444",
   "metadata": {},
   "outputs": [],
   "source": [
    "import pandas as pd\n",
    "import numpy as np\n",
    "import matplotlib.pyplot as plt\n",
    "import seaborn as sns"
   ]
  },
  {
   "cell_type": "code",
   "execution_count": 6,
   "id": "5e7c7e55-6d29-4f61-a9d3-5438f1f79b5b",
   "metadata": {},
   "outputs": [
    {
     "name": "stdout",
     "output_type": "stream",
     "text": [
      "                   Country Name   Country ISO3        Year  \\\n",
      "0                 #country+name  #country+code  #date+year   \n",
      "1     Korea, Dem. People’s Rep.            PRK        1984   \n",
      "2     Korea, Dem. People’s Rep.            PRK        1983   \n",
      "3     Korea, Dem. People’s Rep.            PRK        1982   \n",
      "4     Korea, Dem. People’s Rep.            PRK        1981   \n",
      "...                         ...            ...         ...   \n",
      "1350  Korea, Dem. People’s Rep.            PRK        1964   \n",
      "1351  Korea, Dem. People’s Rep.            PRK        1963   \n",
      "1352  Korea, Dem. People’s Rep.            PRK        1962   \n",
      "1353  Korea, Dem. People’s Rep.            PRK        1961   \n",
      "1354  Korea, Dem. People’s Rep.            PRK        1960   \n",
      "\n",
      "                                Indicator Name   Indicator Code  \\\n",
      "0                              #indicator+name  #indicator+code   \n",
      "1             Agricultural machinery, tractors   AG.AGR.TRAC.NO   \n",
      "2             Agricultural machinery, tractors   AG.AGR.TRAC.NO   \n",
      "3             Agricultural machinery, tractors   AG.AGR.TRAC.NO   \n",
      "4             Agricultural machinery, tractors   AG.AGR.TRAC.NO   \n",
      "...                                        ...              ...   \n",
      "1350  Rural population (% of total population)   SP.RUR.TOTL.ZS   \n",
      "1351  Rural population (% of total population)   SP.RUR.TOTL.ZS   \n",
      "1352  Rural population (% of total population)   SP.RUR.TOTL.ZS   \n",
      "1353  Rural population (% of total population)   SP.RUR.TOTL.ZS   \n",
      "1354  Rural population (% of total population)   SP.RUR.TOTL.ZS   \n",
      "\n",
      "                     Value  \n",
      "0     #indicator+value+num  \n",
      "1                    67500  \n",
      "2                    61700  \n",
      "3                    55900  \n",
      "4                    50100  \n",
      "...                    ...  \n",
      "1350                55.898  \n",
      "1351                56.884  \n",
      "1352                57.864  \n",
      "1353                58.838  \n",
      "1354                59.805  \n",
      "\n",
      "[1355 rows x 6 columns]\n",
      "Country Name      object\n",
      "Country ISO3      object\n",
      "Year              object\n",
      "Indicator Name    object\n",
      "Indicator Code    object\n",
      "Value             object\n",
      "dtype: object\n",
      "my dataset Country Name      0\n",
      "Country ISO3      0\n",
      "Year              0\n",
      "Indicator Name    0\n",
      "Indicator Code    0\n",
      "Value             0\n",
      "dtype: int64\n",
      "Index(['Country Name', 'Country ISO3', 'Year', 'Indicator Name',\n",
      "       'Indicator Code', 'Value'],\n",
      "      dtype='object')\n",
      "8130\n",
      "                Country Name Country ISO3  Year  \\\n",
      "2  Korea, Dem. People’s Rep.          PRK  1983   \n",
      "3  Korea, Dem. People’s Rep.          PRK  1982   \n",
      "4  Korea, Dem. People’s Rep.          PRK  1981   \n",
      "\n",
      "                     Indicator Name  Indicator Code  Value  \n",
      "2  Agricultural machinery, tractors  AG.AGR.TRAC.NO  61700  \n",
      "3  Agricultural machinery, tractors  AG.AGR.TRAC.NO  55900  \n",
      "4  Agricultural machinery, tractors  AG.AGR.TRAC.NO  50100  \n"
     ]
    }
   ],
   "source": [
    "df= pd.read_csv(\"C:/Users/CC/Downloads/agriculture-and-rural-development_prk.csv\")  \n",
    "print(df)\n",
    "print(df.dtypes)\n",
    "print('my dataset' , df.isnull().sum())\n",
    "print(df.columns)\n",
    "print(df.size)\n",
    "print(df.loc[2:4])"
   ]
  },
  {
   "cell_type": "markdown",
   "id": "9cd0e8ff-cc2f-4116-9250-7c0aece00e7e",
   "metadata": {},
   "source": [
    "The relevance of a country to refugees encompasses legal, humanitarian, economic, social, and security dimensions. The policies, resources, and societal attitudes of the host country critically shape the experiences and opportunities available to refugees, influencing their ability to integrate and contribute to their new communities.\n",
    "\n",
    "The ralavance of Location The location profoundly impacts refugees’ experiences and opportunities.Key factors include safety, to resources and services,legal and administrative support, economic opportunities, social integration,environmental conditions, and the political and social climat"
   ]
  },
  {
   "cell_type": "code",
   "execution_count": null,
   "id": "c351b4ba-b826-4bac-8f56-60ef8170793b",
   "metadata": {},
   "outputs": [],
   "source": []
  }
 ],
 "metadata": {
  "kernelspec": {
   "display_name": "Python 3 (ipykernel)",
   "language": "python",
   "name": "python3"
  },
  "language_info": {
   "codemirror_mode": {
    "name": "ipython",
    "version": 3
   },
   "file_extension": ".py",
   "mimetype": "text/x-python",
   "name": "python",
   "nbconvert_exporter": "python",
   "pygments_lexer": "ipython3",
   "version": "3.11.7"
  }
 },
 "nbformat": 4,
 "nbformat_minor": 5
}
