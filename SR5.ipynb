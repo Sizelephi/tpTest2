{
 "cells": [
  {
   "cell_type": "markdown",
   "id": "37fff189-deab-4797-a9ea-9f66d91c2463",
   "metadata": {},
   "source": [
    "linear search is not usually thought to be efficient in terms of Big O notation. O(n), where 'n' is the number of elements in the array being searched, is its temporal complexity. This indicates that as the array gets bigger, the amount of time it takes to find an element increases linearly.\n",
    "\n",
    "A linear search involves checking each element in the array one at a time until the target element is located or all elements have been examined. The algorithm will have to look at all 'n' elements in the array in the worst-case situation, when the target element is either not there at all or at the end of the arra\n",
    "\n",
    "Given that binary search has an O(log n) time complexity, where 'n' is the number of elements in the sorted array under search, it is efficient when expressed in terms of Big O notation. This indicates that as an array's size increases, the amount of time required to search for an element in it increases logarithmically.\n",
    "\n",
    "Because binary search continuously splits the search interval in half until the target element is identified or the interval is empty, binary search is deemed efficient. The search space is half as large after each comparison, resulting in a logarithmic time complexity.\n",
    "\n",
    "For this reason, binary search is effective:\n",
    "\n",
    "Divide and Conquer: Binary search drastically reduces search time by halving it with each comparison.\n",
    "\n"
   ]
  }
 ],
 "metadata": {
  "kernelspec": {
   "display_name": "Python 3 (ipykernel)",
   "language": "python",
   "name": "python3"
  },
  "language_info": {
   "codemirror_mode": {
    "name": "ipython",
    "version": 3
   },
   "file_extension": ".py",
   "mimetype": "text/x-python",
   "name": "python",
   "nbconvert_exporter": "python",
   "pygments_lexer": "ipython3",
   "version": "3.11.7"
  }
 },
 "nbformat": 4,
 "nbformat_minor": 5
}
