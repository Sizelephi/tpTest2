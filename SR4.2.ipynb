{
 "cells": [
  {
   "cell_type": "code",
   "execution_count": null,
   "id": "d352b841-d5f7-45ec-ace3-3fa0f4e82c62",
   "metadata": {},
   "outputs": [],
   "source": [
    "import pandas as pd\n",
    "import numpy as np\n",
    "import matplotlib.pyplot as plt\n",
    "import seaborn as sns\n",
    "df= pd.read_csv(\"C:/Users/CC/Downloads/agriculture-and-rural-development_prk.csv\")"
   ]
  },
  {
   "cell_type": "code",
   "execution_count": null,
   "id": "d39fdbac-1dcc-4a5a-af22-75447d1756c7",
   "metadata": {},
   "outputs": [],
   "source": [
    "# Linear Search Implementation\n",
    "def linear_search(arr, target):\n",
    "    for index, element in enumerate(arr):\n",
    "        if element == target:\n",
    "            return index\n",
    "    return -1\n",
    "\n",
    "# Binary Search Implementation\n",
    "def binary_search(arr, target):\n",
    "    left, right = 0, len(arr) - 1\n",
    "    while left <= right:\n",
    "        mid = (left + right) // 2\n",
    "        if arr[mid] == target:\n",
    "            return mid\n",
    "        elif arr[mid] < target:\n",
    "            left = mid + 1\n",
    "        else:\n",
    "            right = mid - 1\n",
    "    return -1\n",
    "\n",
    "\n",
    "Value = [ 67500, 61700,55900,50100,44300,38600,32800,27000,26000,25000,24000,23000,22000]\n",
    "\n",
    "target =50100\n",
    "\n",
    "# Performing Linear Search\n",
    "linear_result = linear_search(Value, target)\n",
    "print(f\"Linear Search: Element {target} found at index {linear_result}\")\n",
    "\n",
    "# Performing Binary Search\n",
    "binary_result = binary_search(Value, target)\n",
    "print(f\"Binary Search: Element {target} found at index {binary_result}\")\n"
   ]
  },
  {
   "cell_type": "code",
   "execution_count": null,
   "id": "73743c8d-29ae-497f-9fdc-90d7fc6330dd",
   "metadata": {},
   "outputs": [],
   "source": [
    "def bubble_sort(arr):\n",
    "    n = len(arr)\n",
    "    for i in range(n):\n",
    "        for j in range(0, n-i-1):\n",
    "            if arr[j] > arr[j+1]:\n",
    "                arr[j], arr[j+1] = arr[j+1], arr[j]\n",
    "    return arr\n",
    "    \n",
    "Value = [ 67500, 61700,55900,50100,44300,38600,32800,27000,26000,25000,24000,23000,22000]\n",
    "sorted_ID = bubble_sort(Value)\n",
    "print(\"Bubble Sort:\", sorted_Value)"
   ]
  },
  {
   "cell_type": "markdown",
   "id": "f47fd280-4940-4aaa-9c68-2ff487874c6e",
   "metadata": {},
   "source": [
    "\n",
    "Linear Search Linear search is a simple searching algorithm that checks every element in the list one by one until the target element is found or the list ends Binary search, on the other hand, is a more efficient algorithm that works on sorted lists. It repeatedly divides the search interval in half, reducing the size of the list to search by a factor of two each time. In summary, binary search performs faster than linear search due to its logarithmic time complexity, but it requires the list to be sorted. Linear search, while less efficient, does not require the list to be sorted and is easier to implement"
   ]
  },
  {
   "cell_type": "markdown",
   "id": "c516fbd8-8a3d-4cfc-8510-924c63758329",
   "metadata": {},
   "source": [
    "linear search is not usually thought to be efficient in terms of Big O notation. O(n), where 'n' is the number of elements in the array being searched, is its temporal complexity. This indicates that as the array gets bigger, the amount of time it takes to find an element increases linearly.\n",
    "\n",
    "A linear search involves checking each element in the array one at a time until the target element is located or all elements have been examined. The algorithm will have to look at all 'n' elements in the array in the worst-case situation, when the target element is either not there at all or at the end of the arra\n",
    "\n",
    "Given that binary search has an O(log n) time complexity, where 'n' is the number of elements in the sorted array under search, it is efficient when expressed in terms of Big O notation. This indicates that as an array's size increases, the amount of time required to search for an element in it increases logarithmically.\n",
    "\n",
    "Because binary search continuously splits the search interval in half until the target element is identified or the interval is empty, binary search is deemed efficient. The search space is half as large after each comparison, resulting in a logarithmic time complexity.\n",
    "\n",
    "For this reason, binary search is effective:\n",
    "\n",
    "Divide and Conquer: Binary search drastically reduces search time by halving it with each comparison"
   ]
  }
 ],
 "metadata": {
  "kernelspec": {
   "display_name": "Python 3 (ipykernel)",
   "language": "python",
   "name": "python3"
  },
  "language_info": {
   "codemirror_mode": {
    "name": "ipython",
    "version": 3
   },
   "file_extension": ".py",
   "mimetype": "text/x-python",
   "name": "python",
   "nbconvert_exporter": "python",
   "pygments_lexer": "ipython3",
   "version": "3.11.7"
  }
 },
 "nbformat": 4,
 "nbformat_minor": 5
}
